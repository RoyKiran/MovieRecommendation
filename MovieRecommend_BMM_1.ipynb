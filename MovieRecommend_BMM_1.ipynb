{
 "cells": [
  {
   "cell_type": "markdown",
   "metadata": {},
   "source": [
    "# Movie Recommendation using Boltzmann Machine\n",
    "\n",
    "- Recommender 1 : Predict if a user will like a movie or not (1 or 0) - Using Bernoulli RBM (since we're just predicting a binary outcome) (Tut 10)\n",
    "- Recommender 2 : Predict rating a user will provide to a move (from 1 to 5) - Using AutoEncoders (Tut 12)"
   ]
  },
  {
   "cell_type": "code",
   "execution_count": 1,
   "metadata": {},
   "outputs": [
    {
     "name": "stdout",
     "output_type": "stream",
     "text": [
      "Looking in links: https://download.pytorch.org/whl/torch_stable.html\n",
      "Collecting torch===1.5.1\n",
      "  Downloading https://download.pytorch.org/whl/cu102/torch-1.5.1-cp37-cp37m-win_amd64.whl (913.8 MB)\n",
      "Collecting torchvision===0.6.1\n",
      "  Downloading https://download.pytorch.org/whl/cu102/torchvision-0.6.1-cp37-cp37m-win_amd64.whl (1.2 MB)\n",
      "Requirement already satisfied: future in d:\\anaconda3\\lib\\site-packages (from torch===1.5.1) (0.18.2)\n",
      "Requirement already satisfied: numpy in d:\\anaconda3\\lib\\site-packages (from torch===1.5.1) (1.18.1)\n",
      "Requirement already satisfied: pillow>=4.1.1 in d:\\anaconda3\\lib\\site-packages (from torchvision===0.6.1) (7.0.0)\n",
      "Installing collected packages: torch, torchvision\n",
      "Successfully installed torch-1.5.1 torchvision-0.6.1\n"
     ]
    }
   ],
   "source": [
    "# Installing pytorch\n",
    "!pip install torch===1.5.1 torchvision===0.6.1 -f https://download.pytorch.org/whl/torch_stable.html\n",
    "#!conda install -c pytorch pytorch\n",
    "#!conda install pytorch torchvision cudatoolkit=10.2 -c pytorch"
   ]
  },
  {
   "cell_type": "markdown",
   "metadata": {},
   "source": [
    "## Dowloading dataset"
   ]
  },
  {
   "cell_type": "code",
   "execution_count": 19,
   "metadata": {},
   "outputs": [],
   "source": [
    "import requests, zipfile, io\n",
    "\n",
    "def downloadData(zip_file_url):\n",
    "    try:\n",
    "        r = requests.get(zip_file_url, timeout=5)\n",
    "        print(r.content)\n",
    "        z = zipfile.ZipFile(io.BytesIO(r.content))\n",
    "        z.extractall()\n",
    "    except Exception as e:\n",
    "        print(e)"
   ]
  },
  {
   "cell_type": "markdown",
   "metadata": {},
   "source": [
    "#### ML-100K"
   ]
  },
  {
   "cell_type": "code",
   "execution_count": 20,
   "metadata": {},
   "outputs": [
    {
     "name": "stderr",
     "output_type": "stream",
     "text": [
      "IOPub data rate exceeded.\n",
      "The notebook server will temporarily stop sending output\n",
      "to the client in order to avoid crashing it.\n",
      "To change this limit, set the config variable\n",
      "`--NotebookApp.iopub_data_rate_limit`.\n",
      "\n",
      "Current values:\n",
      "NotebookApp.iopub_data_rate_limit=1000000.0 (bytes/sec)\n",
      "NotebookApp.rate_limit_window=3.0 (secs)\n",
      "\n"
     ]
    }
   ],
   "source": [
    "## MovieLens 100K movie ratings Dataset - 100,000 ratings from 1000 users on 1700 movies.\n",
    "\n",
    "# Linux cmds\n",
    "'''\n",
    "!wget \"http://files.grouplens.org/datasets/movielens/ml-100k.zip\"     # Download zip file from net\n",
    "!unzip ml-100k.zip # Unzip file\n",
    "!ls    # list directory \n",
    "'''\n",
    "\n",
    "# Python way\n",
    "downloadData(\"http://files.grouplens.org/datasets/movielens/ml-100k.zip\")    "
   ]
  },
  {
   "cell_type": "markdown",
   "metadata": {},
   "source": [
    "#### ML-1M"
   ]
  },
  {
   "cell_type": "code",
   "execution_count": 21,
   "metadata": {},
   "outputs": [
    {
     "name": "stderr",
     "output_type": "stream",
     "text": [
      "IOPub data rate exceeded.\n",
      "The notebook server will temporarily stop sending output\n",
      "to the client in order to avoid crashing it.\n",
      "To change this limit, set the config variable\n",
      "`--NotebookApp.iopub_data_rate_limit`.\n",
      "\n",
      "Current values:\n",
      "NotebookApp.iopub_data_rate_limit=1000000.0 (bytes/sec)\n",
      "NotebookApp.rate_limit_window=3.0 (secs)\n",
      "\n"
     ]
    }
   ],
   "source": [
    "## MovieLens 1M movie ratings Dataset - 1 million ratings from 6000 users on 4000 movies.\n",
    "\n",
    "'''\n",
    "This dataset contains more details about the movies which will help to design a more robust recommender system. \n",
    "Hence we download this as well.\n",
    "'''\n",
    "\n",
    "\n",
    "# Linux cmds\n",
    "'''\n",
    "!wget \"https://grouplens.org/datasets/movielens/ml-1m.zip\"     # Download zip file from net\n",
    "!unzip ml-1m.zip # Unzip file\n",
    "!ls    # list directory \n",
    "'''\n",
    "\n",
    "#Python way\n",
    "downloadData(\"http://files.grouplens.org/datasets/movielens/ml-1m.zip\") "
   ]
  },
  {
   "cell_type": "markdown",
   "metadata": {},
   "source": [
    "## Importing libraries"
   ]
  },
  {
   "cell_type": "code",
   "execution_count": 62,
   "metadata": {},
   "outputs": [],
   "source": [
    "import numpy as np                     # to work with arrays\n",
    "import pandas as pd                    # to import the dataset and create the training set and the test set\n",
    "import torch                           # torch lib\n",
    "import torch.nn as nn                  # to implement neural networks\n",
    "import torch.nn.parallel               # for the parallel computations\n",
    "import torch.optim as optim            # for the optimizer\n",
    "import torch.utils.data                # tools that will be used\n",
    "from torch.autograd import Variable    # for stochastic range and descent\n",
    "from matplotlib import pyplot as plt"
   ]
  },
  {
   "cell_type": "markdown",
   "metadata": {},
   "source": [
    "## Import Dataset"
   ]
  },
  {
   "cell_type": "code",
   "execution_count": 63,
   "metadata": {},
   "outputs": [],
   "source": [
    "# movies.dat -> MovieID::Title::Genres\n",
    "movies = pd.read_csv('./ml-1m/movies.dat',sep='::', header=None, engine='python', encoding='latin-1',\n",
    "                    names=['MovieID','Movie Name','Genre'])\n",
    "                    # there is no header row in the file -> header = None\n",
    "                    # engine : {'c', 'python'} ->  Parser engine to use. The C engine is faster while the python engine is currently more feature-complete.\n",
    "                    # encoding : utf-8 (default). here we have movie names with special chars. hence we change encoding to latin-1\n",
    "\n",
    "# users.dat -> UserID::Gender::Age::Occupation::Zip-code            \n",
    "users = pd.read_csv('ml-1m/users.dat',sep='::', header=None, engine='python', encoding='latin-1',\n",
    "                   names=['UserID','Gender','Age','Occupation','Zip-code'])  \n",
    "\n",
    "# ratings.dat -> UserID::MovieID::Rating::Timestamp\n",
    "ratings = pd.read_csv('ml-1m/ratings.dat',sep='::', header=None, engine='python', encoding='latin-1',\n",
    "                     names=['UserID','MovieID','Rating','Timestamp'])            "
   ]
  },
  {
   "cell_type": "code",
   "execution_count": 64,
   "metadata": {},
   "outputs": [
    {
     "name": "stdout",
     "output_type": "stream",
     "text": [
      "   MovieID                          Movie Name                         Genre\n",
      "0        1                    Toy Story (1995)   Animation|Children's|Comedy\n",
      "1        2                      Jumanji (1995)  Adventure|Children's|Fantasy\n",
      "2        3             Grumpier Old Men (1995)                Comedy|Romance\n",
      "3        4            Waiting to Exhale (1995)                  Comedy|Drama\n",
      "4        5  Father of the Bride Part II (1995)                        Comedy\n",
      "\n",
      "\n",
      "    UserID Gender  Age  Occupation Zip-code\n",
      "0       1      F    1          10    48067\n",
      "1       2      M   56          16    70072\n",
      "2       3      M   25          15    55117\n",
      "3       4      M   45           7    02460\n",
      "4       5      M   25          20    55455\n",
      "\n",
      "\n",
      "    UserID  MovieID  Rating  Timestamp\n",
      "0       1     1193       5  978300760\n",
      "1       1      661       3  978302109\n",
      "2       1      914       3  978301968\n",
      "3       1     3408       4  978300275\n",
      "4       1     2355       5  978824291\n"
     ]
    }
   ],
   "source": [
    "print(movies.head())\n",
    "print(\"\\n\\n\",users.head())\n",
    "print(\"\\n\\n\",ratings.head())"
   ]
  },
  {
   "cell_type": "markdown",
   "metadata": {},
   "source": [
    "## Prepare Training & Test Set"
   ]
  },
  {
   "cell_type": "code",
   "execution_count": 65,
   "metadata": {},
   "outputs": [],
   "source": [
    "training_set = pd.read_csv('ml-100k/u1.base',delimiter='\\t',header=None, names=['UserId','MovieId','Rating','Timestamp'])         \n",
    "            # columns are separated by tabs. so here are separator is '\\t'. Hence, Instead of sep, we use delimiter attribute.\n",
    "\n",
    "test_set = pd.read_csv('ml-100k/u1.test',delimiter='\\t',header=None, names=['UserId','MovieId','Rating','Timestamp'])             "
   ]
  },
  {
   "cell_type": "code",
   "execution_count": 66,
   "metadata": {},
   "outputs": [
    {
     "data": {
      "text/html": [
       "<div>\n",
       "<style scoped>\n",
       "    .dataframe tbody tr th:only-of-type {\n",
       "        vertical-align: middle;\n",
       "    }\n",
       "\n",
       "    .dataframe tbody tr th {\n",
       "        vertical-align: top;\n",
       "    }\n",
       "\n",
       "    .dataframe thead th {\n",
       "        text-align: right;\n",
       "    }\n",
       "</style>\n",
       "<table border=\"1\" class=\"dataframe\">\n",
       "  <thead>\n",
       "    <tr style=\"text-align: right;\">\n",
       "      <th></th>\n",
       "      <th>UserId</th>\n",
       "      <th>MovieId</th>\n",
       "      <th>Rating</th>\n",
       "      <th>Timestamp</th>\n",
       "    </tr>\n",
       "  </thead>\n",
       "  <tbody>\n",
       "    <tr>\n",
       "      <th>0</th>\n",
       "      <td>1</td>\n",
       "      <td>1</td>\n",
       "      <td>5</td>\n",
       "      <td>874965758</td>\n",
       "    </tr>\n",
       "    <tr>\n",
       "      <th>1</th>\n",
       "      <td>1</td>\n",
       "      <td>2</td>\n",
       "      <td>3</td>\n",
       "      <td>876893171</td>\n",
       "    </tr>\n",
       "    <tr>\n",
       "      <th>2</th>\n",
       "      <td>1</td>\n",
       "      <td>3</td>\n",
       "      <td>4</td>\n",
       "      <td>878542960</td>\n",
       "    </tr>\n",
       "    <tr>\n",
       "      <th>3</th>\n",
       "      <td>1</td>\n",
       "      <td>4</td>\n",
       "      <td>3</td>\n",
       "      <td>876893119</td>\n",
       "    </tr>\n",
       "    <tr>\n",
       "      <th>4</th>\n",
       "      <td>1</td>\n",
       "      <td>5</td>\n",
       "      <td>3</td>\n",
       "      <td>889751712</td>\n",
       "    </tr>\n",
       "  </tbody>\n",
       "</table>\n",
       "</div>"
      ],
      "text/plain": [
       "   UserId  MovieId  Rating  Timestamp\n",
       "0       1        1       5  874965758\n",
       "1       1        2       3  876893171\n",
       "2       1        3       4  878542960\n",
       "3       1        4       3  876893119\n",
       "4       1        5       3  889751712"
      ]
     },
     "execution_count": 66,
     "metadata": {},
     "output_type": "execute_result"
    }
   ],
   "source": [
    "# rows represent users, columns are 'User'\n",
    "training_set.head()"
   ]
  },
  {
   "cell_type": "code",
   "execution_count": 67,
   "metadata": {},
   "outputs": [],
   "source": [
    "'''\n",
    "We will pass the dataset to pytorch. Hence converting the dataset to Array\n",
    "'''\n",
    "\n",
    "training_set = np.array(training_set, dtype='int')   \n",
    "            # all the values in the dataset are int, so specifying that the array elements are of integer type\n",
    "    \n",
    "test_set = np.array(test_set, dtype='int')               "
   ]
  },
  {
   "cell_type": "code",
   "execution_count": 68,
   "metadata": {},
   "outputs": [
    {
     "data": {
      "text/plain": [
       "array([[        1,         1,         5, 874965758],\n",
       "       [        1,         2,         3, 876893171],\n",
       "       [        1,         3,         4, 878542960],\n",
       "       ...,\n",
       "       [      943,      1188,         3, 888640250],\n",
       "       [      943,      1228,         3, 888640275],\n",
       "       [      943,      1330,         3, 888692465]])"
      ]
     },
     "execution_count": 68,
     "metadata": {},
     "output_type": "execute_result"
    }
   ],
   "source": [
    "training_set"
   ]
  },
  {
   "cell_type": "markdown",
   "metadata": {},
   "source": [
    "### Getting the number of users and movies"
   ]
  },
  {
   "cell_type": "code",
   "execution_count": 69,
   "metadata": {},
   "outputs": [
    {
     "data": {
      "text/plain": [
       "(943, 1682)"
      ]
     },
     "execution_count": 69,
     "metadata": {},
     "output_type": "execute_result"
    }
   ],
   "source": [
    "'''\n",
    "Convert the training & test set into a matrix where the lines/rows are represented by users, columns are going to be \n",
    "movies, and the cells will be the ratings.\n",
    "\n",
    "Matrix Format: \n",
    "\n",
    "        Movie1   Movie2   Movie3 ...   MovieM\n",
    "User 1    r11      r12     r13           r1M\n",
    "User 2    r21      r22     r23           r2M  \n",
    "User 3    r31      r32     r33           r3M  \n",
    ":\n",
    "User N    rN1      rN2     rN3           rNM  \n",
    "\n",
    "For this we have to find total no of users (N) & movies (M). (Both training & test set will have the same no. of users & movies)\n",
    "\n",
    "'''\n",
    "## Getting no. of users & movies\n",
    "'''\n",
    "nb_users = max(pd.read_csv('ml-100k/u.user',header=None,sep='|')[:][0])\n",
    "nb_movies = max(pd.read_csv('ml-100k/u.item',header=None,sep='|',  encoding='latin-1')[:][0])\n",
    "'''\n",
    "# OR\n",
    "nb_users = int(max(max(training_set[:,0]),max(test_set[:,0])))\n",
    "nb_movies = int(max(max(training_set[:,1]),max(test_set[:,1])))\n",
    "\n",
    "nb_users, nb_movies"
   ]
  },
  {
   "cell_type": "markdown",
   "metadata": {},
   "source": [
    "### Convert data in array with users as rows & columns as movies"
   ]
  },
  {
   "cell_type": "code",
   "execution_count": 70,
   "metadata": {},
   "outputs": [],
   "source": [
    "def convert(data):\n",
    "    \"\"\"\n",
    "    Here we create a list of lists. i.e the parent list index will represent users & sub list will denote ratings of movies.\n",
    "    If user didn't rate a movie, we will set it to 0.\n",
    "    \n",
    "    So the whole list of lists will be a list of 943 lists because we have 943 users, and each of these 943 lists \n",
    "    will be a list of 1,682 elements because we have 1,682 movies.\n",
    "    Size of test & training set will be same as we are considering all users & all movies.\n",
    "    Also, we remove timestamp column as its not required\n",
    "    \"\"\"\n",
    "    new_data = []\n",
    "    \n",
    "    for user_id in range(1,nb_users+1):\n",
    "        movies_id = data[:,1][data[:,0]== user_id]  # Get all movies list user rated\n",
    "        m_ratings = data[:,2][data[:,0]== user_id]  # Get all movies ratings provided by a user\n",
    "        \n",
    "        u_ratings = np.zeros(nb_movies)    # Create a list with 0 values & length = no. of movies\n",
    "        \n",
    "        #print(len(movies_id),\"--\", len(m_ratings),\"--\", len(u_ratings))\n",
    "        u_ratings[movies_id-1] = m_ratings  # Assign ratings value to the movie in sub list\n",
    "        \n",
    "        new_data.append(list(u_ratings))\n",
    "    \n",
    "    return new_data\n",
    "        \n",
    "\n",
    "training_set = convert(training_set)  # Convert training_set into desired array/matrix format\n",
    "test_set = convert(test_set)          # Convert test_set into desired array/matrix format\n",
    "    "
   ]
  },
  {
   "cell_type": "code",
   "execution_count": 71,
   "metadata": {},
   "outputs": [
    {
     "data": {
      "text/plain": [
       "943"
      ]
     },
     "execution_count": 71,
     "metadata": {},
     "output_type": "execute_result"
    }
   ],
   "source": [
    "len(training_set)"
   ]
  },
  {
   "cell_type": "markdown",
   "metadata": {},
   "source": [
    "### Convert data into pytorch tensors/array"
   ]
  },
  {
   "cell_type": "code",
   "execution_count": 72,
   "metadata": {},
   "outputs": [],
   "source": [
    "'''\n",
    "Tensors are simply arrays that contain elements of a single data type.\n",
    "So a tensor is a multi-dimensional matrix but instead of being a NumPy array, this is a PyTorch array.\n",
    "\n",
    "NumPy arrays are less efficient than the tensors\n",
    "With TensorFlow also we work with tensors that are TensorFlow tensors, another kind of tensor/multi-dimensional matrix,\n",
    "using which we could also implement our autoencoders from scratch.\n",
    "\n",
    "But it turned out that, for autoencoders, Pytorch was more preferrable as we not only get better results, but also \n",
    "this was much more simple.\n",
    "\n",
    "Here we have two separate multi-dimensional matrices based on PyTorch. \n",
    "Training set is going to be one torch.Tensor and the test set is going to be another torch.Tensor.\n",
    "\n",
    "'''\n",
    "# create an object of class. torch.Tensor \n",
    "training_set = torch.FloatTensor(training_set)  # FloatTensor(list_of_list) class creates a multi dimensional array/matrix with element data type as float\n",
    "test_set = torch.FloatTensor(test_set)"
   ]
  },
  {
   "cell_type": "markdown",
   "metadata": {},
   "source": [
    "### Convert the ratings into binary ratings 1 (Liked/yes) or 0 (Not Liked/No)"
   ]
  },
  {
   "cell_type": "code",
   "execution_count": 73,
   "metadata": {},
   "outputs": [],
   "source": [
    "''' \n",
    "With restricted Boltzmann machines, we can predict if a user likes a movie - yes or no.\n",
    "So we have to convert all the ratings into binary ratings, zero or one, as these are gonna be the inputs of our \n",
    "restricted Boltzmann machines.\n",
    "\n",
    "Then using Autoencoders, we will predict the exact ratings given by the users to a movie.\n",
    "'''\n",
    "\n",
    "def returnBinaryRating(tensorMatrix):\n",
    "    # Replace all 0 by -1 to denote no rating was provided\n",
    "    tensorMatrix[tensorMatrix==0] = -1\n",
    "    \n",
    "    # Replace all ratings with values 1 & 2 to 0 to denote dislike\n",
    "    tensorMatrix[tensorMatrix==1] = 0\n",
    "    tensorMatrix[tensorMatrix==2] = 0\n",
    "    \n",
    "    # Replace all ratings with values greater than 2 to 1 to denote like\n",
    "    tensorMatrix[tensorMatrix >= 3] = 1\n",
    "    \n",
    "    return tensorMatrix\n",
    "\n",
    "training_set = returnBinaryRating(training_set)\n",
    "test_set = returnBinaryRating(test_set)"
   ]
  },
  {
   "cell_type": "code",
   "execution_count": 74,
   "metadata": {},
   "outputs": [
    {
     "data": {
      "text/plain": [
       "tensor([[ 1.,  1.,  1.,  ..., -1., -1., -1.],\n",
       "        [ 1., -1., -1.,  ..., -1., -1., -1.],\n",
       "        [-1., -1., -1.,  ..., -1., -1., -1.],\n",
       "        ...,\n",
       "        [ 1., -1., -1.,  ..., -1., -1., -1.],\n",
       "        [-1., -1., -1.,  ..., -1., -1., -1.],\n",
       "        [-1.,  1., -1.,  ..., -1., -1., -1.]])"
      ]
     },
     "execution_count": 74,
     "metadata": {},
     "output_type": "execute_result"
    }
   ],
   "source": [
    "training_set"
   ]
  },
  {
   "cell_type": "markdown",
   "metadata": {},
   "source": [
    "## Preparing the Model - Create the architecture of the Neural Network (RBM)"
   ]
  },
  {
   "cell_type": "code",
   "execution_count": 75,
   "metadata": {},
   "outputs": [],
   "source": [
    "## Creating architecture of Neural Network (RBM)\n",
    "'''\n",
    "A restricted Boltzmann machine is a probability graphical model.\n",
    "\n",
    "Parameters to be set to initialize the RBM are:\n",
    "    1) number of hidden notes,\n",
    "    2) weights for the probability of the visible note, given the hidden note.\n",
    "    3) the bias for the same probability\n",
    "    4) the bias for the probability of the visible note given the hidden note.\n",
    "\n",
    "Thus we create a class with 3 functions.\n",
    " - function __init__ to initialize the RBM by initializing its parameters\n",
    " - function to sample H i.e. the probabilities of the hidden nodes given the visible nodes\n",
    " - function to sample V i.e. the probabilities of the visible nodes given the hidden nodes.\n",
    " \n",
    " Here One visible node represents one movie & V is a vector of all movie ratings for a user.\n",
    "'''\n",
    "class RBM():\n",
    "    def __init__(self, nv:int, nh:int):\n",
    "        \"\"\"\n",
    "        Initialize the RBM paramters that we will be optimized during the training of the RBM i.e. the weights and the bias\n",
    "        Input Parameters: \n",
    "            nv -> no. of visible nodes\n",
    "            nh -> no. of hidden nodes            \n",
    "        \"\"\"\n",
    "        # Initialize all the weights in a torched tensor. \n",
    "        # These weights are all the parameters of the probabilities of the visible nodes given the hidden nodes.\n",
    "        # randn(size) Returns a tensor filled with random numbers from a normal distribution with mean `0` and variance `1` (also called the standard normal distribution).\n",
    "        self.W = torch.randn(nh,nv)\n",
    "                 \n",
    "        # Initialize bias as a 2D tensor - first dimension corresponds to the batch & the second corresponds to the bias.\n",
    "        # here batch size =1 & no. of bias values for hidden nodes = nh or no. of visible nodes = nv                          \n",
    "        '''\n",
    "        Why do we need to create this fake dimension for the batch? \n",
    "            It's because the functions that we're gonna use in PyTorch cannot accept a single input vector\n",
    "            of one dimension as argument, but a two dimensional tensor with the first dimension corresponding to the \n",
    "            batch and the second dimension corresponding to the bias.\n",
    "        '''\n",
    "        self.a = torch.randn(1, nh)  # Define the bias for the probabilities of the hidden nodes given the visible nodes.\n",
    "        self.b = torch.randn(1, nv)  # Bias for the visible node\n",
    "        \n",
    "    \n",
    "    def sample_h(self, x):\n",
    "        \"\"\"\n",
    "        The second function is about sampling the hidden nodes according to the probabilities, Ph given v\n",
    "        where h is a hidden node and v is a visible node.\n",
    "\n",
    "        This probability Ph given v, is basically the sigmoid activation function.\n",
    "        \n",
    "        Why do we need this sample h function?\n",
    "            Because during the training we will approximate the log likelihood gradient through Gibbs sampling.\n",
    "            To apply Gibbs sampling, we need to compute the probabilities of the hidden nodes given the visible nodes.\n",
    "            And then once we have this probability, we can sample the activations of the hidden nodes.\n",
    "    \n",
    "        Input:\n",
    "            x --> list of visible neurons v, in the probabilities, Ph given v. \n",
    "        Output: samples of the different hidden nodes of our RBM, according to the probabilities\n",
    "        \"\"\"\n",
    "\n",
    "        # matrix multiplication (input * wt transpose)\n",
    "        wx = torch.mm(x, self.W.t())  \n",
    "                \n",
    "        # Here we expand bias as wx (by adding a new dimension to the bias) to ensure that the bias are applied to each line of the mini batch.\n",
    "        activation = wx + self.a.expand_as(wx)  \n",
    "                \n",
    "        '''\n",
    "        Remember that each input vector will not be treated individually, but inside batches.\n",
    "        \n",
    "        Even if the batch contains one input vector or one vector of bias, that input vector is still in the batch.\n",
    "        This is called a mini batch.\n",
    "\n",
    "        And here when we add the bias of the hidden nodes, we want to make sure that this bias is applied to each \n",
    "        line of the mini batch i.e. to each line of this dimension.\n",
    "        To ensure this, we use a function 'expand_as()' that will again add a new dimension for these bias that we're \n",
    "        adding.\n",
    "\n",
    "        The activation function (that activates the hidden node) is a linear combinations of the visible \n",
    "        neurons (x), where the coefficients are the weights to which the bias is added.\n",
    "        \n",
    "        This activation function represents a probability that the hidden node is activated according to the value\n",
    "        of the visible node. --> P_h_given_v.\n",
    "        '''\n",
    "        \n",
    "        # Find probability that the hidden node is activated according to the value of the visible node\n",
    "        P_h_given_v = torch.sigmoid(activation)  # P_h_given_v is a vector of nh elements\n",
    "        \n",
    "        '''\n",
    "        Say we have a hidden node (h) that detects a feature 'the movie belongs to drama genre'. So for all those visible \n",
    "        nodes/users (v) who love drama movie, value of P-h_given_v for these users will be high.\n",
    "        '''\n",
    "        \n",
    "        # Return : 1) all the ratings i.e. probabilities of the hidden neurons, given the values of the visible nodes.\n",
    "        #          2) Bernoulli sampling of the hidden neurons.\n",
    "        '''\n",
    "        torch.bernoulli(probability_vector) : Draws binary random numbers (0 or 1) from a Bernoulli distribution.\n",
    "                i.e. if probability = 0.7, then a random no. is drawn between 0 & 1 and if this random no.\n",
    "                is greater than the probability (0.7) then return 1 else return 0.\n",
    "        '''\n",
    "        return P_h_given_v , torch.bernoulli(P_h_given_v)\n",
    "\n",
    "     \n",
    "    def sample_v(self, y):\n",
    "        \"\"\"\n",
    "        This function is about sampling the visible nodes according to the probabilities, Pv given h\n",
    "        where h is a hidden node and v is a visible node.\n",
    "\n",
    "        This probability Pv given h, is basically the sigmoid activation function.\n",
    "        \n",
    "        Why do we need this sample h function?\n",
    "            Because during the training we will approximate the log likelihood gradient through Gibbs sampling.\n",
    "            To apply Gibbs sampling, we need to compute the probabilities of the hidden nodes given the visible nodes.\n",
    "            And then once we have this probability, we can sample the activations of the hidden nodes.\n",
    "    \n",
    "        Input:\n",
    "            y --> list of hidden neurons h, in the probabilities, Pv given h.\n",
    "        Output: samples of the different visible nodes of our RBM, according to the probabilities\n",
    "        \"\"\"\n",
    "\n",
    "        '''\n",
    "        nV = no. of movies = no. of visible nodes = no. of probabilities of v given h (P_v_given_h)\n",
    "        '''\n",
    "        \n",
    "        # matrix multiplication (input * w)  --- here we don't transpose W\n",
    "        wy = torch.mm(y, self.W)  \n",
    "                \n",
    "        # Here we expand bias as wx (by adding a new dimension to the bias) to ensure that the bias are applied to each line of the mini batch.\n",
    "        activation = wy + self.b.expand_as(wy)  \n",
    "        \n",
    "        # Find probability that the hidden node is activated according to the value of the visible node\n",
    "        P_v_given_h = torch.sigmoid(activation)  # P_v_given_h is a vector of nh elements\n",
    "        \n",
    "        return P_v_given_h , torch.bernoulli(P_v_given_h)\n",
    "\n",
    "    \n",
    "    def train(self, v0, vk, Ph0, Phk):\n",
    "        # Perform Contrastive divergence with Gibbs sampling.\n",
    "        \"\"\"\n",
    "        This function is about the contrastive divergence that we will use to approximate the likelihood gradient.\n",
    "        \n",
    "        Since, RBM is an energy-based model, we have this energy function that we try to minimize.\n",
    "        And since this energy function depends on the weight of the model(weights in this tensor of weights),\n",
    "        we need to optimize these weights to minimize the energy.\n",
    "        \n",
    "        RBM can also be seen as a probability graphical model. In that case, the goal (equivalent to minimizing the energy)\n",
    "        is to maximize the log-likelihood of the training set for which we need to compute the gradient.\n",
    "        \n",
    "        So here we minimize a loss function and through stochastic gradient descent update the weights in the direction \n",
    "        of this minimum loss.\n",
    "        But here the gradient computations are too heavy to be calculated directly, so we approximate these gradients,\n",
    "        by using the contrastive divergence algorithm (which comes with Gibbs Sampling).\n",
    "        Gibbs sampling consists of creating Gibbs chain in k-steps and this Gibb chain in created exactly by sampling \n",
    "        K times the hidden nodes and the visible node.\n",
    "        \n",
    "        CD-k algorithm:-\n",
    "        1st Iteration : We start with our input vector Vo, then based on the probabilities P_H_given_Vo, we sample \n",
    "        the first set of nodes.\n",
    "        2nd Iteration : Then we take these sampled hidden nodes as input (H1), to sample the visible nodes with \n",
    "        the probabilities P_V_given_H1.\n",
    "        3rd Iteration : Then again we use these sample visibile nodes (V1), to sample again the hidden nodes with the\n",
    "        probabilities P_H_given_V1.\n",
    "        kth Iteration : Then again we sample the visible nodes & then sample the hidden nodes. We do this K times.\n",
    "\n",
    "        So in this training function, we perform 3 tasks:\n",
    "        1. update the tensor of weights - W\n",
    "        2. update bias b (bias of P_V_given_H)\n",
    "        3. update bias a (bias of P_H_given_V).\n",
    "        \n",
    "        Input:\n",
    "        - Vo : Input vector containing the ratings of all the movies by one user (input vector of observations)\n",
    "        - Vk : Visible nodes obtained after K samplings/iterations/contrastive divergence.\n",
    "        - Ph0 : Vector of probabilities that at the first iteration the hidden nodes equal one given the values of Vo.\n",
    "        - Phk : Vector of probabilities of the hidden nodes after K sampling given the values of the visible nodes Vk\n",
    "        \"\"\"\n",
    "        \n",
    "        # Update Weights\n",
    "        self.W += (torch.mm(v0.t(), Ph0) - torch.mm(vk.t(), Phk)).t()\n",
    "        \n",
    "        # Update Bias        \n",
    "        self.b += torch.sum((v0 - vk),0)   # torch.sum() -> adds difference between the input vector of observations & the\n",
    "                                           # visibile nodes after K samplings to 0, to keep the dimensionality of bias as 2\n",
    "        self.a += torch.sum((Ph0 - Phk),0)  \n",
    "        "
   ]
  },
  {
   "cell_type": "markdown",
   "metadata": {},
   "source": [
    "![CD-k steps](CD-kSteps.png)"
   ]
  },
  {
   "cell_type": "markdown",
   "metadata": {},
   "source": [
    "## Use the RBM model to perform rating prediction"
   ]
  },
  {
   "cell_type": "code",
   "execution_count": 110,
   "metadata": {},
   "outputs": [],
   "source": [
    "class DL_Task():\n",
    "    rbm = None\n",
    "    #batch_size = nb_epoch = k_steps = 0\n",
    "    \n",
    "    ### Define an object of the RBM class/model\n",
    "    def create_model(self, nh:int) -> RBM:\n",
    "        '''\n",
    "        Input: Hyperparameters\n",
    "        nh = no. of hidden nodes = no. of features we want to detect\n",
    "\n",
    "        '''\n",
    "        ## Define no. of visible nodes. \n",
    "        '''\n",
    "        One visible node represents one movie. So no. of visible nodes = no. of movies  \n",
    "        '''\n",
    "        #nv = nb_movies\n",
    "        # OR\n",
    "        nv = len(training_set[0])  # No. of columns in 1st line of training set\n",
    "\n",
    "        ## Define no. of hidden nodes - We can tune our mode by adjusting this parameter\n",
    "        '''\n",
    "        We can choose any no. of hidden nodes. \n",
    "        no. of hidden nodes = no. of features we want to detect\n",
    "        '''\n",
    "        #nh = 100     \n",
    "\n",
    "\n",
    "        ## Create an object of the RBM class/model\n",
    "        self.rbm = RBM(nv, nh)\n",
    "\n",
    "        #return rbm\n",
    "    \n",
    "    ### Training the RBM\n",
    "    def fit(self, batch_size:int ,nb_epoch:int, k_steps:int):\n",
    "\n",
    "        ## Batch size - We can tune our mode by adjusting this hyperparameter \n",
    "        '''\n",
    "        batch_size = 1 implies 'ONLINE LEAARNING' i.e. after each observation, we will update the weights. \n",
    "        (So no. of batch = no. of users/records/samples/input vectors/observations as each batch will have 1 record )\n",
    "\n",
    "        We want to speead up the training so we take a large batch size. So when we train our algorithm, we will update the \n",
    "        weights after several observations that will all go into a batch. \n",
    "        The batches will have the same number of observations (btach_size).\n",
    "        no_of_batches = total_no_of_records/batch_size\n",
    "        '''\n",
    "        #batch_size = 100 \n",
    "\n",
    "\n",
    "        # Define no. of epochs\n",
    "        '''\n",
    "        number of epochs = number of complete passes through the training dataset.\n",
    "        One epoch will involve all 'n' batches i.e. 'n' updates to the model.\n",
    "        With say 'x' epochs, the model will be exposed to or pass through the whole dataset 'x' times. \n",
    "        That is a total of x*n batches during the entire training process.\n",
    "        '''\n",
    "        #nb_epoch = 10 \n",
    "\n",
    "        # Loop through the epoch\n",
    "        for epoch in range(1,nb_epoch+1):\n",
    "\n",
    "            # Intialize the loss\n",
    "            train_loss = 0         # Loss will increase as we find some errors between the predictions and the real ratings\n",
    "\n",
    "            # We need a counter (of type float) to Normalize the loss( by dividing the loss with the counter)\n",
    "            counter = 0.           # Counter will increament after each epoch\n",
    "\n",
    "            # Loop through the batch\n",
    "            for user_id in range(0, nb_users-batch_size, batch_size):\n",
    "                # Define Input & Target Vector. \n",
    "                '''\n",
    "                Input will change with Gibbs sampling but target will remain same.\n",
    "                Input & target vector (visible node values) is the ratings of all the movies by the specific user \n",
    "                '''\n",
    "                vk = training_set[user_id:user_id+batch_size]    # Input Vector consists of all observations in a batch.\n",
    "                v0 = training_set[user_id:user_id+batch_size]    # Target Vector \n",
    "\n",
    "                # Get the Initial Probabilities\n",
    "                '''\n",
    "                ph0 = probability that the hidden node at the start equal one given the real ratings i.e. ratings of the movies \n",
    "                      that were already rated by the users of our batch.\n",
    "                '''\n",
    "                ph0,_ = self.rbm.sample_h(v0)   # Here we want only the probabilities & not hidden node values from the function\n",
    "\n",
    "                # For loop for the k steps of contrastive divergence\n",
    "                #k_steps = 10                # This parameter can also be tuned\n",
    "                for k in range(k_steps):\n",
    "                    # Given the visible nodes, we calculate the hidden nodes\n",
    "                    _, hk = self.rbm.sample_h(vk)                # Here we just want the hidden node values & not the probabilities\n",
    "\n",
    "                    # Now using the hidden nodes find the value of visible nodes\n",
    "                    _, vk = self.rbm.sample_v(hk)\n",
    "\n",
    "                    # Reverse the values of non-rated movies\n",
    "                    '''\n",
    "                    Its important to note that we don't wanna learn where there is no rating, that is for the sales \n",
    "                    that have a -1 ratings, we do not include these sales in the training process. So we'll freeze these visible \n",
    "                    nodes that contain the -1 ratings i.e we won't update them during Gibbs sampling.\n",
    "                    '''\n",
    "                    vk[v0<0] = v0[v0<0]\n",
    "\n",
    "                # Find the probability of hidden nodes given the last sample of the visible nodes.\n",
    "                phk,_ = self.rbm.sample_h(vk)\n",
    "\n",
    "                # For each batch, using vk, we can approximate the gradient to update the weights & bias\n",
    "                self.rbm.train(v0,vk,ph0,phk)\n",
    "\n",
    "                # Find the training loss\n",
    "                '''\n",
    "                Add error (i.e. difference between the predictive ratings and the real/original ratings of our target, v0) \n",
    "                to the training loss.        \n",
    "                '''\n",
    "                train_loss += self.loss_calc(vk,v0)\n",
    "                counter += 1.\n",
    "\n",
    "            # Print how the model is performing in each epoch\n",
    "            print(\"epoch : \"+str(epoch)+\" \\t loss :\"+str(train_loss/counter))  # here training loss is less than 25% which is good\n",
    "        \n",
    "    \n",
    "    ### Testing the RBM  \n",
    "    def predict(self):\n",
    "\n",
    "        # Intialize the loss\n",
    "        test_loss = 0         # Loss will increase as we find some errors between the predictions and the real ratings\n",
    "\n",
    "        # We need a counter (of type float) to Normalize the loss( by dividing the loss with the counter)\n",
    "        counter = 0.           # Counter will increament after each epoch\n",
    "\n",
    "        # Finding accuracy\n",
    "        test_accuracy = 0.\n",
    "\n",
    "        # Loop through the test set\n",
    "        for user_id in range(nb_users):\n",
    "            # Define Input & Target Vector. \n",
    "            '''\n",
    "            Input will change with Gibbs sampling but target will remain same.\n",
    "            Input & target vector (visible node values) is the ratings of all the movies by the specific user \n",
    "\n",
    "            Now, we are dealing with the test set & trying to predict the ratings in the test set\n",
    "            On input v we will make the prediction.\n",
    "            Target vt, contains the original ratings of the test set, so that is what we will compare to our predictions in the end.\n",
    "\n",
    "            For vt, We need to take the observations from the test set because we want to compare the real ratings of the test \n",
    "            set to our predictions.\n",
    "\n",
    "            But for the input v, we take the observations from the training set, because the training set is the input that \n",
    "            will be used to activate the hidden neurons to get the output. The training set contains the ratings of the training \n",
    "            set and it doesn't contain the answers of the test set.\n",
    "            By using the inputs of the training set we will activate the neurons of our RBM to predict the ratings of the movies\n",
    "            that were not rated yet, and that is the ratings of the test set.   .\n",
    "            '''\n",
    "            v = training_set[user_id:user_id+1] # Input Vector consists of 1 record with some values required to activate the neurons\n",
    "            vt = test_set[user_id:user_id+1]    # Target Vector consists of 1 record with expected rating values\n",
    "\n",
    "            # Ignore the non-rated movies in the test set\n",
    "            if (len(vt[vt>=0])>0):    \n",
    "\n",
    "                # Given the dummy visible nodes, we calculate the hidden nodes\n",
    "                _, h = self.rbm.sample_h(v)        # Here we just want the hidden node values & not the probabilities\n",
    "\n",
    "                # Now using the hidden nodes predict the values of visible nodes\n",
    "                _, v = self.rbm.sample_v(h)\n",
    "\n",
    "                # Find the test loss\n",
    "                '''\n",
    "                Add error (i.e. difference between the predictive ratings and the real/original ratings of our target, v0) \n",
    "                to the loss function error.\n",
    "                We can use either RMAC error function or the distance error function.\n",
    "                Here we use the simple distance function which calculates absolute values between the prediction & the real rating.\n",
    "\n",
    "                Also, we ignore the movies that have not been rated in the test set\n",
    "                '''\n",
    "                test_loss += self.loss_calc(v,vt)    # Difference between expected & predicted values\n",
    "                test_accuracy += self.accuracy_calc(v,vt)   \n",
    "                #print(test_loss,\":\",test_accuracy,\":\",counter)\n",
    "                counter += 1.\n",
    "\n",
    "        # Print how the model is performing in each epoch\n",
    "        print(\"test loss : \"+str(test_loss/counter), \"\\t accuracy :\",str(test_accuracy/counter)) \n",
    "        \n",
    "        return test_loss/counter, test_accuracy/counter\n",
    "        \n",
    "        \n",
    "    # Define Loss function\n",
    "    def loss_calc(self,v_pred, v_target):\n",
    "        # there are two ways of evaluating our RBM - with the RMSE and the Average Distance.\n",
    "        # Both take Difference between expected & predicted values\n",
    "\n",
    "        # Method 1: Average Distance\n",
    "        '''\n",
    "        Here we use the simple distance function which calculates absolute difference values between the prediction & the \n",
    "        real rating.\n",
    "        Also, we ignore the movies that have not been rated in the test/training set\n",
    "        '''\n",
    "        return torch.mean(torch.abs(v_target[v_target>=0]-v_pred[v_target>=0])) \n",
    "\n",
    "        # Method 2: RMSE\n",
    "        '''\n",
    "        The RMSE (Root Mean Squared Error) is calculated as the root of the mean of the squared differences between \n",
    "        the predictions and the targets.\n",
    "        Also, we ignore the movies that have not been rated in the test/training set\n",
    "        '''\n",
    "        #return np.sqrt(torch.mean((v_target[v_target>=0]-v_pred[v_target>=0])**2))  \n",
    "\n",
    "    \n",
    "    # Define accuracy function\n",
    "    def accuracy_calc(self, v_pred, v_target):\n",
    "        # Method 1: Average Distance\n",
    "        '''\n",
    "        Here we use the simple distance function which calculates absolute difference values between the prediction & the \n",
    "        real rating.\n",
    "        Also, we ignore the movies that have not been rated in the test/training set\n",
    "        '''\n",
    "        #print(sum(v_target[v_target>=0]==v_pred[v_target>=0]) )\n",
    "        return sum(v_target[v_target>=0]==v_pred[v_target>=0])/float(len(v_target[v_target>=0]))"
   ]
  },
  {
   "cell_type": "code",
   "execution_count": 107,
   "metadata": {},
   "outputs": [
    {
     "name": "stdout",
     "output_type": "stream",
     "text": [
      "epoch : 1 \t loss :tensor(0.3579)\n",
      "epoch : 2 \t loss :tensor(0.2492)\n",
      "epoch : 3 \t loss :tensor(0.2480)\n",
      "epoch : 4 \t loss :tensor(0.2508)\n",
      "epoch : 5 \t loss :tensor(0.2485)\n",
      "epoch : 6 \t loss :tensor(0.2471)\n",
      "epoch : 7 \t loss :tensor(0.2484)\n",
      "epoch : 8 \t loss :tensor(0.2508)\n",
      "epoch : 9 \t loss :tensor(0.2462)\n",
      "epoch : 10 \t loss :tensor(0.2506)\n",
      "test loss : tensor(0.2458) \t accuracy : tensor(0.7542)\n"
     ]
    }
   ],
   "source": [
    "model = DL_Task()\n",
    "model.create_model(nh=100)  # No. of hidden nodes = 100\n",
    "model.fit(batch_size=100 ,nb_epoch=10, k_steps=10)\n",
    "model.predict()"
   ]
  },
  {
   "cell_type": "markdown",
   "metadata": {},
   "source": [
    "Using the RMSE, our RBM would obtain an error around 0.46. But be careful, although it looks similar, one must not confuse the RMSE and the Average Distance. A RMSE of 0.46 doesn’t mean that the average distance between the prediction and the ground truth is 0.46. In random mode we would end up with a RMSE around 0.72. An error of 0.46 corresponds to 75% of successful prediction.\n",
    "<br><br>\n",
    "Using Average Distance error metric, we geta loss of 0.24, which is equivalent to about 75% of correct prediction."
   ]
  },
  {
   "cell_type": "code",
   "execution_count": 108,
   "metadata": {},
   "outputs": [
    {
     "name": "stdout",
     "output_type": "stream",
     "text": [
      "0.758\n",
      "0.242\n"
     ]
    }
   ],
   "source": [
    "# If you want to check that 0.25 corresponds to 75% of success, you can run the following test:\n",
    "\n",
    "u = np.random.choice([0,1], 1000)    # Generates a random sample from a given 1-D array\n",
    "v = np.random.choice([0,1], 1000)\n",
    "#print(u,\"--\",v,\"--\",sum(u==v))\n",
    "u[:500] = v[:500]                 # Making atleast 50% of the values same\n",
    "#print(sum(u==v))\n",
    "print(sum(u==v)/float(len(u))) # -> you get 0.75   \n",
    "print(np.mean(np.abs(u-v))) # -> you get 0.25\n",
    "\n",
    "# so 0.25 corresponds to 75% of success."
   ]
  },
  {
   "cell_type": "markdown",
   "metadata": {},
   "source": [
    "## Hyper parameter tuning\n",
    "In deeplearning, hyper-parameters are: learning rate, batch size, momentum, and weight decay. \n",
    "In BMM, k-step is also a hyper parameter"
   ]
  },
  {
   "cell_type": "code",
   "execution_count": 126,
   "metadata": {},
   "outputs": [],
   "source": [
    "def plot_graph(x,error,accuracy,xlabel):\n",
    "        \n",
    "    # Plot the graph\n",
    "    plt.plot(x, error, 'bx-') \n",
    "    plt.plot(x, [x-0.5 for x in accuracy], 'ro-') \n",
    "    plt.xlabel(xlabel) \n",
    "    #plt.ylabel('') \n",
    "    plt.title('Error & Accuracy Plot')\n",
    "    plt.legend(('Error','Accuracy'))\n",
    "    plt.show()  \n",
    "    "
   ]
  },
  {
   "cell_type": "code",
   "execution_count": 124,
   "metadata": {},
   "outputs": [
    {
     "name": "stdout",
     "output_type": "stream",
     "text": [
      "epoch : 1 \t loss :tensor(0.2917)\n",
      "epoch : 2 \t loss :tensor(0.2534)\n",
      "test loss : tensor(0.2400) \t accuracy : tensor(0.7600)\n",
      "epoch : 1 \t loss :tensor(0.3253)\n",
      "epoch : 2 \t loss :tensor(0.2482)\n",
      "test loss : tensor(0.2620) \t accuracy : tensor(0.7380)\n",
      "epoch : 1 \t loss :tensor(0.3508)\n",
      "epoch : 2 \t loss :tensor(0.2479)\n",
      "test loss : tensor(0.2485) \t accuracy : tensor(0.7515)\n",
      "epoch : 1 \t loss :tensor(0.3270)\n",
      "epoch : 2 \t loss :tensor(0.2321)\n",
      "test loss : tensor(0.2521) \t accuracy : tensor(0.7479)\n",
      "epoch : 1 \t loss :tensor(0.3364)\n",
      "epoch : 2 \t loss :tensor(0.2379)\n",
      "test loss : tensor(0.2484) \t accuracy : tensor(0.7516)\n",
      "epoch : 1 \t loss :tensor(0.3757)\n",
      "epoch : 2 \t loss :tensor(0.2551)\n",
      "test loss : tensor(0.2367) \t accuracy : tensor(0.7633)\n",
      "epoch : 1 \t loss :tensor(0.3610)\n",
      "epoch : 2 \t loss :tensor(0.2498)\n",
      "test loss : tensor(0.2526) \t accuracy : tensor(0.7474)\n",
      "epoch : 1 \t loss :tensor(0.3581)\n",
      "epoch : 2 \t loss :tensor(0.2503)\n",
      "test loss : tensor(0.2502) \t accuracy : tensor(0.7498)\n",
      "epoch : 1 \t loss :tensor(0.3614)\n",
      "epoch : 2 \t loss :tensor(0.2556)\n",
      "test loss : tensor(0.2403) \t accuracy : tensor(0.7597)\n",
      "epoch : 1 \t loss :tensor(0.3690)\n",
      "epoch : 2 \t loss :tensor(0.2514)\n",
      "test loss : tensor(0.2724) \t accuracy : tensor(0.7276)\n",
      "epoch : 1 \t loss :tensor(0.3602)\n",
      "epoch : 2 \t loss :tensor(0.2270)\n",
      "test loss : tensor(0.2407) \t accuracy : tensor(0.7593)\n",
      "epoch : 1 \t loss :tensor(0.3682)\n",
      "epoch : 2 \t loss :tensor(0.2453)\n",
      "test loss : tensor(0.2599) \t accuracy : tensor(0.7401)\n",
      "epoch : 1 \t loss :tensor(0.3740)\n",
      "epoch : 2 \t loss :tensor(0.2436)\n",
      "test loss : tensor(0.2589) \t accuracy : tensor(0.7411)\n",
      "epoch : 1 \t loss :tensor(0.3682)\n",
      "epoch : 2 \t loss :tensor(0.2524)\n",
      "test loss : tensor(0.2289) \t accuracy : tensor(0.7711)\n",
      "epoch : 1 \t loss :tensor(0.3731)\n",
      "epoch : 2 \t loss :tensor(0.2559)\n",
      "test loss : tensor(0.2869) \t accuracy : tensor(0.7131)\n"
     ]
    },
    {
     "data": {
      "image/png": "[encoded data removed]",
      "text/plain": [
       "<Figure size 432x288 with 1 Axes>"
      ]
     },
     "metadata": {
      "needs_background": "light"
     },
     "output_type": "display_data"
    }
   ],
   "source": [
    "# Check suitable no. of hidden nodes\n",
    "model = DL_Task()\n",
    "\n",
    "no_of_hidden_nodes = range(20,310,20)\n",
    "error=[]\n",
    "accuracy = []\n",
    "\n",
    "for h in no_of_hidden_nodes:\n",
    "    model.create_model(h)\n",
    "    model.fit(batch_size=100 ,nb_epoch=2, k_steps=7)\n",
    "    err, acc = model.predict()\n",
    "    error.append(err)\n",
    "    accuracy.append(acc)\n",
    "    \n",
    "plot_graph(no_of_hidden_nodes, error, accuracy, 'No. of hidden nodes')"
   ]
  },
  {
   "cell_type": "code",
   "execution_count": 128,
   "metadata": {},
   "outputs": [
    {
     "name": "stdout",
     "output_type": "stream",
     "text": [
      "epoch : 1 \t loss :tensor(0.3300)\n",
      "epoch : 2 \t loss :tensor(0.2489)\n",
      "test loss : tensor(0.2509) \t accuracy : tensor(0.7491)\n",
      "epoch : 1 \t loss :tensor(0.2511)\n",
      "epoch : 2 \t loss :tensor(0.2451)\n",
      "test loss : tensor(0.2429) \t accuracy : tensor(0.7571)\n",
      "epoch : 1 \t loss :tensor(0.2518)\n",
      "epoch : 2 \t loss :tensor(0.2483)\n",
      "test loss : tensor(0.2578) \t accuracy : tensor(0.7422)\n",
      "epoch : 1 \t loss :tensor(0.2466)\n",
      "epoch : 2 \t loss :tensor(0.2449)\n",
      "test loss : tensor(0.2311) \t accuracy : tensor(0.7689)\n",
      "epoch : 1 \t loss :tensor(0.2485)\n",
      "epoch : 2 \t loss :tensor(0.2485)\n",
      "test loss : tensor(0.2559) \t accuracy : tensor(0.7441)\n",
      "epoch : 1 \t loss :tensor(0.2491)\n",
      "epoch : 2 \t loss :tensor(0.2462)\n",
      "test loss : tensor(0.2428) \t accuracy : tensor(0.7572)\n",
      "epoch : 1 \t loss :tensor(0.2467)\n",
      "epoch : 2 \t loss :tensor(0.2476)\n",
      "test loss : tensor(0.2511) \t accuracy : tensor(0.7489)\n",
      "epoch : 1 \t loss :tensor(0.2484)\n",
      "epoch : 2 \t loss :tensor(0.2491)\n",
      "test loss : tensor(0.2468) \t accuracy : tensor(0.7532)\n",
      "epoch : 1 \t loss :tensor(0.2460)\n",
      "epoch : 2 \t loss :tensor(0.2469)\n",
      "test loss : tensor(0.2462) \t accuracy : tensor(0.7538)\n",
      "epoch : 1 \t loss :tensor(0.2492)\n",
      "epoch : 2 \t loss :tensor(0.2437)\n",
      "test loss : tensor(0.2686) \t accuracy : tensor(0.7314)\n"
     ]
    },
    {
     "data": {
      "image/png": "[encoded data removed]",
      "text/plain": [
       "<Figure size 432x288 with 1 Axes>"
      ]
     },
     "metadata": {
      "needs_background": "light"
     },
     "output_type": "display_data"
    }
   ],
   "source": [
    "# Plot k-steps \n",
    "\n",
    "model = DL_Task()\n",
    "model.create_model(nh=100)  # No. of hidden nodes = 100\n",
    "\n",
    "k_step = range(5,15)\n",
    "error = []\n",
    "accuracy = []\n",
    "\n",
    "for k in k_step:\n",
    "    model.fit(batch_size=100 ,nb_epoch=2, k_steps=k)\n",
    "    err, acc = model.predict()\n",
    "    error.append(err)\n",
    "    accuracy.append(acc)\n",
    "\n",
    "# Plot the graph\n",
    "plot_graph(k_step, error, accuracy, 'k_steps')\n",
    "\n",
    "# Graph shows k_steps = 8 is suitable"
   ]
  },
  {
   "cell_type": "code",
   "execution_count": null,
   "metadata": {},
   "outputs": [],
   "source": []
  }
 ],
 "metadata": {
  "kernelspec": {
   "display_name": "Python 3",
   "language": "python",
   "name": "python3"
  },
  "language_info": {
   "codemirror_mode": {
    "name": "ipython",
    "version": 3
   },
   "file_extension": ".py",
   "mimetype": "text/x-python",
   "name": "python",
   "nbconvert_exporter": "python",
   "pygments_lexer": "ipython3",
   "version": "3.8.5"
  }
 },
 "nbformat": 4,
 "nbformat_minor": 4
}
